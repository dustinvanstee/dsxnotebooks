{
    "cells": [
        {
            "cell_type": "markdown", 
            "source": "## Packages and Imports", 
            "metadata": {}
        }, 
        {
            "cell_type": "code", 
            "execution_count": 1, 
            "outputs": [], 
            "source": "#check for packages install if necessary\npackages <- function(x){\n  x <- as.character(match.call()[[2]])\n  if (!require(x,character.only=TRUE)){\n    install.packages(pkgs=x,repos=\"http://cran.r-project.org\")\n    require(x,character.only=TRUE)\n  }\n}", 
            "metadata": {
                "collapsed": true
            }
        }, 
        {
            "cell_type": "code", 
            "execution_count": 2, 
            "outputs": [
                {
                    "output_type": "stream", 
                    "text": "\nAttaching package: 'dplyr'\n\nThe following objects are masked from 'package:SparkR':\n\n    arrange, between, collect, contains, count, cume_dist, dense_rank,\n    desc, distinct, explain, filter, first, group_by, intersect, lag,\n    last, lead, mutate, n, n_distinct, ntile, percent_rank, rename,\n    row_number, sample_frac, select, sql, summarize\n\nThe following objects are masked from 'package:stats':\n\n    filter, lag\n\nThe following objects are masked from 'package:base':\n\n    intersect, setdiff, setequal, union\n\n", 
                    "name": "stderr"
                }
            ], 
            "source": "library(DescTools)\nlibrary(dplyr)\nlibrary(ggplot2)\nlibrary(readr)\nlibrary(readxl)\nlibrary(reshape2)\nlibrary(DT)\n", 
            "metadata": {
                "collapsed": false
            }
        }, 
        {
            "cell_type": "markdown", 
            "source": "## Load in Raw Data from Ojbect Store", 
            "metadata": {}
        }, 
        {
            "cell_type": "code", 
            "execution_count": 3, 
            "outputs": [], 
            "source": "# The code was removed by DSX for sharing.", 
            "metadata": {
                "collapsed": true
            }
        }, 
        {
            "cell_type": "code", 
            "execution_count": 4, 
            "outputs": [
                {
                    "output_type": "stream", 
                    "text": "Formal class 'DataFrame' [package \"SparkR\"] with 2 slots\n  ..@ env:<environment: 0x53be0e0> \n  ..@ sdf:Class 'jobj' <environment: 0x53b91a0> \n", 
                    "name": "stdout"
                }
            ], 
            "source": "lcdf <- read.df(sqlContext, \"swift://LendingClub.keystone/loan.small.csv\", source = \"com.databricks.spark.csv\", header = \"true\")\n#head(lcdf)\nstr(lcdf)\n", 
            "metadata": {
                "collapsed": false
            }
        }, 
        {
            "cell_type": "code", 
            "execution_count": 5, 
            "outputs": [
                {
                    "output_type": "display_data", 
                    "metadata": {}, 
                    "data": {
                        "text/plain": "  Notes offered by Prospectus (https://www.lendingclub.com/info/prospectus.action)\n1 id                                                                              \n2 83830148                                                                        \n3 83032689                                                                        \n4 83758807                                                                        \n5 83983220                                                                        \n6 84112710                                                                        ", 
                        "text/latex": "\\begin{tabular}{r|l}\n Notes offered by Prospectus (https://www.lendingclub.com/info/prospectus.action)\\\\\n\\hline\n\t id      \\\\\n\t 83830148\\\\\n\t 83032689\\\\\n\t 83758807\\\\\n\t 83983220\\\\\n\t 84112710\\\\\n\\end{tabular}\n", 
                        "text/html": "<table>\n<thead><tr><th scope=col>Notes offered by Prospectus (https://www.lendingclub.com/info/prospectus.action)</th></tr></thead>\n<tbody>\n\t<tr><td>id      </td></tr>\n\t<tr><td>83830148</td></tr>\n\t<tr><td>83032689</td></tr>\n\t<tr><td>83758807</td></tr>\n\t<tr><td>83983220</td></tr>\n\t<tr><td>84112710</td></tr>\n</tbody>\n</table>\n"
                    }
                }
            ], 
            "source": "lcdf1 <- read.df(sqlContext, \"swift://LendingClub.keystone/LoanStats_securev1_2016Q2.csv\", source = \"com.databricks.spark.csv\", header = \"true\")\nhead(lcdf)", 
            "metadata": {
                "collapsed": false
            }
        }, 
        {
            "cell_type": "markdown", 
            "source": "## Load Model from Github", 
            "metadata": {
                "collapsed": true
            }
        }, 
        {
            "cell_type": "code", 
            "execution_count": 8, 
            "outputs": [], 
            "source": "load(url(\"https://github.com/dustinvanstee/random-public-files/raw/master/lrfit.Rdata\"))", 
            "metadata": {
                "collapsed": false
            }
        }, 
        {
            "cell_type": "code", 
            "execution_count": 9, 
            "outputs": [
                {
                    "output_type": "display_data", 
                    "metadata": {}, 
                    "data": {
                        "text/latex": "\\begin{enumerate*}\n\\item 'emp\\_length\\_int'\n\\item 'h'\n\\item 'json'\n\\item 'lrfit'\n\\item 'newLoans'\n\\item 'newLoans1'\n\\item 'newdf'\n\\item 'q'\n\\item 'req'\n\\item 'sc'\n\\item 'sqlContext'\n\\end{enumerate*}\n", 
                        "text/markdown": "1. 'emp_length_int'\n2. 'h'\n3. 'json'\n4. 'lrfit'\n5. 'newLoans'\n6. 'newLoans1'\n7. 'newdf'\n8. 'q'\n9. 'req'\n10. 'sc'\n11. 'sqlContext'\n\n\n", 
                        "text/plain": " [1] \"emp_length_int\" \"h\"              \"json\"           \"lrfit\"         \n [5] \"newLoans\"       \"newLoans1\"      \"newdf\"          \"q\"             \n [9] \"req\"            \"sc\"             \"sqlContext\"    ", 
                        "text/html": "<ol class=list-inline>\n\t<li>'emp_length_int'</li>\n\t<li>'h'</li>\n\t<li>'json'</li>\n\t<li>'lrfit'</li>\n\t<li>'newLoans'</li>\n\t<li>'newLoans1'</li>\n\t<li>'newdf'</li>\n\t<li>'q'</li>\n\t<li>'req'</li>\n\t<li>'sc'</li>\n\t<li>'sqlContext'</li>\n</ol>\n"
                    }
                }, 
                {
                    "output_type": "display_data", 
                    "metadata": {}, 
                    "data": {
                        "text/latex": "\\begin{description*}\n\\item[(Intercept)] 4.06434920382299\n\\item[annual\\textbackslash{}\\_inc] 5.05583585131156e-07\n\\item[emp\\textbackslash{}\\_length\\textbackslash{}\\_int] -0.052485820829626\n\\item[home\\textbackslash{}\\_ownershipOWN] -2.20991386443976\n\\item[home\\textbackslash{}\\_ownershipRENT] -3.34300126541818\n\\item[revol\\textbackslash{}\\_bal] -8.00815797915424e-05\n\\item[loan\\textbackslash{}\\_amnt] -5.17680596521139e-05\n\\item[open\\textbackslash{}\\_acc] 0.0159619694770055\n\\item[verification\\textbackslash{}\\_status01] -0.253935975426196\n\\item[annual\\textbackslash{}\\_inc:home\\textbackslash{}\\_ownershipOWN] 2.0921932858106e-05\n\\item[annual\\textbackslash{}\\_inc:home\\textbackslash{}\\_ownershipRENT] 2.45608229071647e-05\n\\item[home\\textbackslash{}\\_ownershipOWN:revol\\textbackslash{}\\_bal] -1.7728547537967e-05\n\\item[home\\textbackslash{}\\_ownershipRENT:revol\\textbackslash{}\\_bal] 0.000115518503041525\n\\item[annual\\textbackslash{}\\_inc:revol\\textbackslash{}\\_bal] 4.14201676414164e-10\n\\item[annual\\textbackslash{}\\_inc:home\\textbackslash{}\\_ownershipOWN:revol\\textbackslash{}\\_bal] 1.75889712770248e-10\n\\item[annual\\textbackslash{}\\_inc:home\\textbackslash{}\\_ownershipRENT:revol\\textbackslash{}\\_bal] -1.04129670310122e-09\n\\end{description*}\n", 
                        "text/markdown": "(Intercept)\n:   4.06434920382299annual_inc\n:   5.05583585131156e-07emp_length_int\n:   -0.052485820829626home_ownershipOWN\n:   -2.20991386443976home_ownershipRENT\n:   -3.34300126541818revol_bal\n:   -8.00815797915424e-05loan_amnt\n:   -5.17680596521139e-05open_acc\n:   0.0159619694770055verification_status01\n:   -0.253935975426196annual_inc:home_ownershipOWN\n:   2.0921932858106e-05annual_inc:home_ownershipRENT\n:   2.45608229071647e-05home_ownershipOWN:revol_bal\n:   -1.7728547537967e-05home_ownershipRENT:revol_bal\n:   0.000115518503041525annual_inc:revol_bal\n:   4.14201676414164e-10annual_inc:home_ownershipOWN:revol_bal\n:   1.75889712770248e-10annual_inc:home_ownershipRENT:revol_bal\n:   -1.04129670310122e-09\n\n", 
                        "text/plain": "                            (Intercept)                              annual_inc \n                           4.064349e+00                            5.055836e-07 \n                         emp_length_int                       home_ownershipOWN \n                          -5.248582e-02                           -2.209914e+00 \n                     home_ownershipRENT                               revol_bal \n                          -3.343001e+00                           -8.008158e-05 \n                              loan_amnt                                open_acc \n                          -5.176806e-05                            1.596197e-02 \n                  verification_status01            annual_inc:home_ownershipOWN \n                          -2.539360e-01                            2.092193e-05 \n          annual_inc:home_ownershipRENT             home_ownershipOWN:revol_bal \n                           2.456082e-05                           -1.772855e-05 \n           home_ownershipRENT:revol_bal                    annual_inc:revol_bal \n                           1.155185e-04                            4.142017e-10 \n annual_inc:home_ownershipOWN:revol_bal annual_inc:home_ownershipRENT:revol_bal \n                           1.758897e-10                           -1.041297e-09 ", 
                        "text/html": "<dl class=dl-horizontal>\n\t<dt>(Intercept)</dt>\n\t\t<dd>4.06434920382299</dd>\n\t<dt>annual_inc</dt>\n\t\t<dd>5.05583585131156e-07</dd>\n\t<dt>emp_length_int</dt>\n\t\t<dd>-0.052485820829626</dd>\n\t<dt>home_ownershipOWN</dt>\n\t\t<dd>-2.20991386443976</dd>\n\t<dt>home_ownershipRENT</dt>\n\t\t<dd>-3.34300126541818</dd>\n\t<dt>revol_bal</dt>\n\t\t<dd>-8.00815797915424e-05</dd>\n\t<dt>loan_amnt</dt>\n\t\t<dd>-5.17680596521139e-05</dd>\n\t<dt>open_acc</dt>\n\t\t<dd>0.0159619694770055</dd>\n\t<dt>verification_status01</dt>\n\t\t<dd>-0.253935975426196</dd>\n\t<dt>annual_inc:home_ownershipOWN</dt>\n\t\t<dd>2.0921932858106e-05</dd>\n\t<dt>annual_inc:home_ownershipRENT</dt>\n\t\t<dd>2.45608229071647e-05</dd>\n\t<dt>home_ownershipOWN:revol_bal</dt>\n\t\t<dd>-1.7728547537967e-05</dd>\n\t<dt>home_ownershipRENT:revol_bal</dt>\n\t\t<dd>0.000115518503041525</dd>\n\t<dt>annual_inc:revol_bal</dt>\n\t\t<dd>4.14201676414164e-10</dd>\n\t<dt>annual_inc:home_ownershipOWN:revol_bal</dt>\n\t\t<dd>1.75889712770248e-10</dd>\n\t<dt>annual_inc:home_ownershipRENT:revol_bal</dt>\n\t\t<dd>-1.04129670310122e-09</dd>\n</dl>\n"
                    }
                }
            ], 
            "source": "ls()\n# head(lrfit)\nlrfit$coefficients", 
            "metadata": {
                "collapsed": false
            }
        }, 
        {
            "cell_type": "code", 
            "execution_count": 12, 
            "outputs": [
                {
                    "output_type": "display_data", 
                    "metadata": {}, 
                    "data": {
                        "text/latex": "'/gpfs/fs01/user/s61e-f0fcc11d947a93-591ae43264f0/notebook/work'", 
                        "text/markdown": "'/gpfs/fs01/user/s61e-f0fcc11d947a93-591ae43264f0/notebook/work'", 
                        "text/plain": "[1] \"/gpfs/fs01/user/s61e-f0fcc11d947a93-591ae43264f0/notebook/work\"", 
                        "text/html": "'/gpfs/fs01/user/s61e-f0fcc11d947a93-591ae43264f0/notebook/work'"
                    }
                }
            ], 
            "source": "# SAMPLES\n#system(\"pwd 2>&1\", intern = TRUE)\n#n = c(2, 3, 5) \n#s = c(\"aa\", \"bb\", \"cc\") \n#b = c(TRUE, FALSE, TRUE) \n#df = data.frame(n, s, b)    \n#write.csv(df,'myCSVforGit.csv')\n#system(\"pwd 2>&1\", intern = TRUE)\n#system(\"ls 2>&1\", intern = TRUE)\n", 
            "metadata": {
                "collapsed": false
            }
        }, 
        {
            "cell_type": "markdown", 
            "source": "## Test Prediction Code", 
            "metadata": {}
        }, 
        {
            "cell_type": "code", 
            "execution_count": 8, 
            "outputs": [], 
            "source": "record <- data.frame(\n    annual_inc     = 50000, \n    emp_length_int = 5,\n    home_ownership = \"OWN\",\n    loan_amnt      = 10000, \n    open_acc       = 3, \n    revol_bal      = 6000, \n    loan_status01  = 1, \n    verification   = \"Verified\" , \n    verification_status01 = 0\n)", 
            "metadata": {
                "collapsed": false
            }
        }, 
        {
            "cell_type": "code", 
            "execution_count": 9, 
            "outputs": [
                {
                    "output_type": "display_data", 
                    "metadata": {}, 
                    "data": {
                        "text/latex": "\\textbf{1:} 0.856159792891707", 
                        "text/markdown": "**1:** 0.856159792891707", 
                        "text/plain": "        1 \n0.8561598 ", 
                        "text/html": "<strong>1:</strong> 0.856159792891707"
                    }
                }
            ], 
            "source": "prediction <- predict(lrfit, newdata = record, type = \"response\")\nprediction", 
            "metadata": {
                "collapsed": false
            }
        }, 
        {
            "cell_type": "markdown", 
            "source": "# Grab data from Lending Club", 
            "metadata": {
                "collapsed": true
            }
        }, 
        {
            "cell_type": "code", 
            "execution_count": 1, 
            "outputs": [], 
            "source": "library(curl)\nh <- new_handle()\n# handle_setopt(h, copypostfields = \"moo=moomooo\");\n#curl -v -H \"Authorization: ivTyQ0K1+9a3oaOSUDikuQiubVU=\"  \"https://api.lendingclub.com/api/investor/v1/loans/listing?showAll=true\"\n\nhandle_setheaders(h,\n  \"Authorization\" = \"ivTyQ0K1+9a3oaOSUDikuQiubVU=\"\n)\nreq <- curl_fetch_memory(\"https://api.lendingclub.com/api/investor/v1/loans/listing?showAll=true\", handle = h)\n\n", 
            "metadata": {
                "collapsed": false
            }
        }, 
        {
            "cell_type": "code", 
            "execution_count": 2, 
            "outputs": [], 
            "source": "json <- rawToChar(req$content)", 
            "metadata": {
                "collapsed": false
            }
        }, 
        {
            "cell_type": "code", 
            "execution_count": 3, 
            "outputs": [], 
            "source": "library(jsonlite)\nnewdf <- fromJSON(json)\nnewLoans <- newdf$loans", 
            "metadata": {
                "collapsed": false
            }
        }, 
        {
            "cell_type": "code", 
            "execution_count": 15, 
            "outputs": [
                {
                    "output_type": "display_data", 
                    "metadata": {}, 
                    "data": {
                        "text/latex": "10", 
                        "text/markdown": "10", 
                        "text/plain": "[1] 10", 
                        "text/html": "10"
                    }
                }, 
                {
                    "output_type": "stream", 
                    "text": "The following `from` values were not present in `x`: verificationStatus\n", 
                    "name": "stderr"
                }, 
                {
                    "output_type": "display_data", 
                    "metadata": {}, 
                    "data": {
                        "text/latex": "\\begin{enumerate*}\n\\item 'id'\n\\item 'memberId'\n\\item 'loan\\_amnt'\n\\item 'fundedAmount'\n\\item 'term'\n\\item 'intRate'\n\\item 'expDefaultRate'\n\\item 'serviceFeeRate'\n\\item 'installment'\n\\item 'grade'\n\\item 'subGrade'\n\\item 'emp\\_length'\n\\item 'home\\_ownership'\n\\item 'annual\\_inc'\n\\item 'isIncV'\n\\item 'acceptD'\n\\item 'expD'\n\\item 'listD'\n\\item 'creditPullD'\n\\item 'reviewStatusD'\n\\item 'reviewStatus'\n\\item 'desc'\n\\item 'purpose'\n\\item 'addrZip'\n\\item 'addrState'\n\\item 'investorCount'\n\\item 'ilsExpD'\n\\item 'initialListStatus'\n\\item 'empTitle'\n\\item 'accNowDelinq'\n\\item 'accOpenPast24Mths'\n\\item 'bcOpenToBuy'\n\\item 'percentBcGt75'\n\\item 'bcUtil'\n\\item 'dti'\n\\item 'delinq2Yrs'\n\\item 'delinqAmnt'\n\\item 'earliestCrLine'\n\\item 'ficoRangeLow'\n\\item 'ficoRangeHigh'\n\\item 'inqLast6Mths'\n\\item 'mthsSinceLastDelinq'\n\\item 'mthsSinceLastRecord'\n\\item 'mthsSinceRecentInq'\n\\item 'mthsSinceRecentRevolDelinq'\n\\item 'mthsSinceRecentBc'\n\\item 'mortAcc'\n\\item 'open\\_acc'\n\\item 'pubRec'\n\\item 'totalBalExMort'\n\\item 'revol\\_bal'\n\\item 'revolUtil'\n\\item 'totalBcLimit'\n\\item 'totalAcc'\n\\item 'totalIlHighCreditLimit'\n\\item 'numRevAccts'\n\\item 'mthsSinceRecentBcDlq'\n\\item 'pubRecBankruptcies'\n\\item 'numAcctsEver120Ppd'\n\\item 'chargeoffWithin12Mths'\n\\item 'collections12MthsExMed'\n\\item 'taxLiens'\n\\item 'mthsSinceLastMajorDerog'\n\\item 'numSats'\n\\item 'numTlOpPast12m'\n\\item 'moSinRcntTl'\n\\item 'totHiCredLim'\n\\item 'totCurBal'\n\\item 'avgCurBal'\n\\item 'numBcTl'\n\\item 'numActvBcTl'\n\\item 'numBcSats'\n\\item 'pctTlNvrDlq'\n\\item 'numTl90gDpd24m'\n\\item 'numTl30dpd'\n\\item 'numTl120dpd2m'\n\\item 'numIlTl'\n\\item 'moSinOldIlAcct'\n\\item 'numActvRevTl'\n\\item 'moSinOldRevTlOp'\n\\item 'moSinRcntRevTlOp'\n\\item 'totalRevHiLim'\n\\item 'numRevTlBalGt0'\n\\item 'numOpRevTl'\n\\item 'totCollAmt'\n\\item 'applicationType'\n\\item 'annualIncJoint'\n\\item 'dtiJoint'\n\\item 'isIncVJoint'\n\\item 'openAcc6m'\n\\item 'openIl6m'\n\\item 'openIl12m'\n\\item 'openIl24m'\n\\item 'mthsSinceRcntIl'\n\\item 'totalBalIl'\n\\item 'iLUtil'\n\\item 'openRv12m'\n\\item 'openRv24m'\n\\item 'maxBalBc'\n\\item 'allUtil'\n\\item 'inqFi'\n\\item 'totalCuTl'\n\\item 'inqLast12m'\n\\end{enumerate*}\n", 
                        "text/markdown": "1. 'id'\n2. 'memberId'\n3. 'loan_amnt'\n4. 'fundedAmount'\n5. 'term'\n6. 'intRate'\n7. 'expDefaultRate'\n8. 'serviceFeeRate'\n9. 'installment'\n10. 'grade'\n11. 'subGrade'\n12. 'emp_length'\n13. 'home_ownership'\n14. 'annual_inc'\n15. 'isIncV'\n16. 'acceptD'\n17. 'expD'\n18. 'listD'\n19. 'creditPullD'\n20. 'reviewStatusD'\n21. 'reviewStatus'\n22. 'desc'\n23. 'purpose'\n24. 'addrZip'\n25. 'addrState'\n26. 'investorCount'\n27. 'ilsExpD'\n28. 'initialListStatus'\n29. 'empTitle'\n30. 'accNowDelinq'\n31. 'accOpenPast24Mths'\n32. 'bcOpenToBuy'\n33. 'percentBcGt75'\n34. 'bcUtil'\n35. 'dti'\n36. 'delinq2Yrs'\n37. 'delinqAmnt'\n38. 'earliestCrLine'\n39. 'ficoRangeLow'\n40. 'ficoRangeHigh'\n41. 'inqLast6Mths'\n42. 'mthsSinceLastDelinq'\n43. 'mthsSinceLastRecord'\n44. 'mthsSinceRecentInq'\n45. 'mthsSinceRecentRevolDelinq'\n46. 'mthsSinceRecentBc'\n47. 'mortAcc'\n48. 'open_acc'\n49. 'pubRec'\n50. 'totalBalExMort'\n51. 'revol_bal'\n52. 'revolUtil'\n53. 'totalBcLimit'\n54. 'totalAcc'\n55. 'totalIlHighCreditLimit'\n56. 'numRevAccts'\n57. 'mthsSinceRecentBcDlq'\n58. 'pubRecBankruptcies'\n59. 'numAcctsEver120Ppd'\n60. 'chargeoffWithin12Mths'\n61. 'collections12MthsExMed'\n62. 'taxLiens'\n63. 'mthsSinceLastMajorDerog'\n64. 'numSats'\n65. 'numTlOpPast12m'\n66. 'moSinRcntTl'\n67. 'totHiCredLim'\n68. 'totCurBal'\n69. 'avgCurBal'\n70. 'numBcTl'\n71. 'numActvBcTl'\n72. 'numBcSats'\n73. 'pctTlNvrDlq'\n74. 'numTl90gDpd24m'\n75. 'numTl30dpd'\n76. 'numTl120dpd2m'\n77. 'numIlTl'\n78. 'moSinOldIlAcct'\n79. 'numActvRevTl'\n80. 'moSinOldRevTlOp'\n81. 'moSinRcntRevTlOp'\n82. 'totalRevHiLim'\n83. 'numRevTlBalGt0'\n84. 'numOpRevTl'\n85. 'totCollAmt'\n86. 'applicationType'\n87. 'annualIncJoint'\n88. 'dtiJoint'\n89. 'isIncVJoint'\n90. 'openAcc6m'\n91. 'openIl6m'\n92. 'openIl12m'\n93. 'openIl24m'\n94. 'mthsSinceRcntIl'\n95. 'totalBalIl'\n96. 'iLUtil'\n97. 'openRv12m'\n98. 'openRv24m'\n99. 'maxBalBc'\n100. 'allUtil'\n101. 'inqFi'\n102. 'totalCuTl'\n103. 'inqLast12m'\n\n\n", 
                        "text/plain": "  [1] \"id\"                         \"memberId\"                  \n  [3] \"loan_amnt\"                  \"fundedAmount\"              \n  [5] \"term\"                       \"intRate\"                   \n  [7] \"expDefaultRate\"             \"serviceFeeRate\"            \n  [9] \"installment\"                \"grade\"                     \n [11] \"subGrade\"                   \"emp_length\"                \n [13] \"home_ownership\"             \"annual_inc\"                \n [15] \"isIncV\"                     \"acceptD\"                   \n [17] \"expD\"                       \"listD\"                     \n [19] \"creditPullD\"                \"reviewStatusD\"             \n [21] \"reviewStatus\"               \"desc\"                      \n [23] \"purpose\"                    \"addrZip\"                   \n [25] \"addrState\"                  \"investorCount\"             \n [27] \"ilsExpD\"                    \"initialListStatus\"         \n [29] \"empTitle\"                   \"accNowDelinq\"              \n [31] \"accOpenPast24Mths\"          \"bcOpenToBuy\"               \n [33] \"percentBcGt75\"              \"bcUtil\"                    \n [35] \"dti\"                        \"delinq2Yrs\"                \n [37] \"delinqAmnt\"                 \"earliestCrLine\"            \n [39] \"ficoRangeLow\"               \"ficoRangeHigh\"             \n [41] \"inqLast6Mths\"               \"mthsSinceLastDelinq\"       \n [43] \"mthsSinceLastRecord\"        \"mthsSinceRecentInq\"        \n [45] \"mthsSinceRecentRevolDelinq\" \"mthsSinceRecentBc\"         \n [47] \"mortAcc\"                    \"open_acc\"                  \n [49] \"pubRec\"                     \"totalBalExMort\"            \n [51] \"revol_bal\"                  \"revolUtil\"                 \n [53] \"totalBcLimit\"               \"totalAcc\"                  \n [55] \"totalIlHighCreditLimit\"     \"numRevAccts\"               \n [57] \"mthsSinceRecentBcDlq\"       \"pubRecBankruptcies\"        \n [59] \"numAcctsEver120Ppd\"         \"chargeoffWithin12Mths\"     \n [61] \"collections12MthsExMed\"     \"taxLiens\"                  \n [63] \"mthsSinceLastMajorDerog\"    \"numSats\"                   \n [65] \"numTlOpPast12m\"             \"moSinRcntTl\"               \n [67] \"totHiCredLim\"               \"totCurBal\"                 \n [69] \"avgCurBal\"                  \"numBcTl\"                   \n [71] \"numActvBcTl\"                \"numBcSats\"                 \n [73] \"pctTlNvrDlq\"                \"numTl90gDpd24m\"            \n [75] \"numTl30dpd\"                 \"numTl120dpd2m\"             \n [77] \"numIlTl\"                    \"moSinOldIlAcct\"            \n [79] \"numActvRevTl\"               \"moSinOldRevTlOp\"           \n [81] \"moSinRcntRevTlOp\"           \"totalRevHiLim\"             \n [83] \"numRevTlBalGt0\"             \"numOpRevTl\"                \n [85] \"totCollAmt\"                 \"applicationType\"           \n [87] \"annualIncJoint\"             \"dtiJoint\"                  \n [89] \"isIncVJoint\"                \"openAcc6m\"                 \n [91] \"openIl6m\"                   \"openIl12m\"                 \n [93] \"openIl24m\"                  \"mthsSinceRcntIl\"           \n [95] \"totalBalIl\"                 \"iLUtil\"                    \n [97] \"openRv12m\"                  \"openRv24m\"                 \n [99] \"maxBalBc\"                   \"allUtil\"                   \n[101] \"inqFi\"                      \"totalCuTl\"                 \n[103] \"inqLast12m\"                ", 
                        "text/html": "<ol class=list-inline>\n\t<li>'id'</li>\n\t<li>'memberId'</li>\n\t<li>'loan_amnt'</li>\n\t<li>'fundedAmount'</li>\n\t<li>'term'</li>\n\t<li>'intRate'</li>\n\t<li>'expDefaultRate'</li>\n\t<li>'serviceFeeRate'</li>\n\t<li>'installment'</li>\n\t<li>'grade'</li>\n\t<li>'subGrade'</li>\n\t<li>'emp_length'</li>\n\t<li>'home_ownership'</li>\n\t<li>'annual_inc'</li>\n\t<li>'isIncV'</li>\n\t<li>'acceptD'</li>\n\t<li>'expD'</li>\n\t<li>'listD'</li>\n\t<li>'creditPullD'</li>\n\t<li>'reviewStatusD'</li>\n\t<li>'reviewStatus'</li>\n\t<li>'desc'</li>\n\t<li>'purpose'</li>\n\t<li>'addrZip'</li>\n\t<li>'addrState'</li>\n\t<li>'investorCount'</li>\n\t<li>'ilsExpD'</li>\n\t<li>'initialListStatus'</li>\n\t<li>'empTitle'</li>\n\t<li>'accNowDelinq'</li>\n\t<li>'accOpenPast24Mths'</li>\n\t<li>'bcOpenToBuy'</li>\n\t<li>'percentBcGt75'</li>\n\t<li>'bcUtil'</li>\n\t<li>'dti'</li>\n\t<li>'delinq2Yrs'</li>\n\t<li>'delinqAmnt'</li>\n\t<li>'earliestCrLine'</li>\n\t<li>'ficoRangeLow'</li>\n\t<li>'ficoRangeHigh'</li>\n\t<li>'inqLast6Mths'</li>\n\t<li>'mthsSinceLastDelinq'</li>\n\t<li>'mthsSinceLastRecord'</li>\n\t<li>'mthsSinceRecentInq'</li>\n\t<li>'mthsSinceRecentRevolDelinq'</li>\n\t<li>'mthsSinceRecentBc'</li>\n\t<li>'mortAcc'</li>\n\t<li>'open_acc'</li>\n\t<li>'pubRec'</li>\n\t<li>'totalBalExMort'</li>\n\t<li>'revol_bal'</li>\n\t<li>'revolUtil'</li>\n\t<li>'totalBcLimit'</li>\n\t<li>'totalAcc'</li>\n\t<li>'totalIlHighCreditLimit'</li>\n\t<li>'numRevAccts'</li>\n\t<li>'mthsSinceRecentBcDlq'</li>\n\t<li>'pubRecBankruptcies'</li>\n\t<li>'numAcctsEver120Ppd'</li>\n\t<li>'chargeoffWithin12Mths'</li>\n\t<li>'collections12MthsExMed'</li>\n\t<li>'taxLiens'</li>\n\t<li>'mthsSinceLastMajorDerog'</li>\n\t<li>'numSats'</li>\n\t<li>'numTlOpPast12m'</li>\n\t<li>'moSinRcntTl'</li>\n\t<li>'totHiCredLim'</li>\n\t<li>'totCurBal'</li>\n\t<li>'avgCurBal'</li>\n\t<li>'numBcTl'</li>\n\t<li>'numActvBcTl'</li>\n\t<li>'numBcSats'</li>\n\t<li>'pctTlNvrDlq'</li>\n\t<li>'numTl90gDpd24m'</li>\n\t<li>'numTl30dpd'</li>\n\t<li>'numTl120dpd2m'</li>\n\t<li>'numIlTl'</li>\n\t<li>'moSinOldIlAcct'</li>\n\t<li>'numActvRevTl'</li>\n\t<li>'moSinOldRevTlOp'</li>\n\t<li>'moSinRcntRevTlOp'</li>\n\t<li>'totalRevHiLim'</li>\n\t<li>'numRevTlBalGt0'</li>\n\t<li>'numOpRevTl'</li>\n\t<li>'totCollAmt'</li>\n\t<li>'applicationType'</li>\n\t<li>'annualIncJoint'</li>\n\t<li>'dtiJoint'</li>\n\t<li>'isIncVJoint'</li>\n\t<li>'openAcc6m'</li>\n\t<li>'openIl6m'</li>\n\t<li>'openIl12m'</li>\n\t<li>'openIl24m'</li>\n\t<li>'mthsSinceRcntIl'</li>\n\t<li>'totalBalIl'</li>\n\t<li>'iLUtil'</li>\n\t<li>'openRv12m'</li>\n\t<li>'openRv24m'</li>\n\t<li>'maxBalBc'</li>\n\t<li>'allUtil'</li>\n\t<li>'inqFi'</li>\n\t<li>'totalCuTl'</li>\n\t<li>'inqLast12m'</li>\n</ol>\n"
                    }
                }
            ], 
            "source": "# Total number of new loans\nnrow(newLoans)\n# Trim Loans down to 10 to start\nnewLoans <- newLoans[1:10,]\nlibrary(plyr)\nnewLoans1<-rename(newLoans, c(\"annualInc\"=\"annual_inc\", \n            \"empLength\"=\"emp_length\",\n            \"homeOwnership\"=\"home_ownership\",\n            \"revolBal\"=\"revol_bal\",\n            \"loanAmount\"=\"loan_amnt\",\n            \"openAcc\"=\"open_acc\",\n            \"verificationStatus\"=\"verification_status\"\n           ))\n\n\nnewLoans2 <- addColumns(newLoans1)\n#emp_length_int <- rep(10,10)\n#newLoans1 <- cbind(newLoans1,emp_length_int)\nnames(newLoans1)", 
            "metadata": {
                "collapsed": false
            }
        }, 
        {
            "cell_type": "code", 
            "execution_count": 14, 
            "outputs": [], 
            "source": "newLoans2 <- addColumns(newLoans1)", 
            "metadata": {
                "collapsed": false
            }
        }, 
        {
            "cell_type": "code", 
            "execution_count": 10, 
            "outputs": [
                {
                    "evalue": "Error in eval(expr, envir, enclos): object 'verification_status01' not found\n", 
                    "traceback": [
                        "Error in eval(expr, envir, enclos): object 'verification_status01' not found\nTraceback:\n", 
                        "1. predict(lrfit, newdata = newLoans1, type = \"response\")", 
                        "2. predict(lrfit, newdata = newLoans1, type = \"response\")", 
                        "3. predict.glm(lrfit, newdata = newLoans1, type = \"response\")", 
                        "4. predict.lm(object, newdata, se.fit, scale = 1, type = ifelse(type == \n .     \"link\", \"response\", type), terms = terms, na.action = na.action)", 
                        "5. model.frame(Terms, newdata, na.action = na.action, xlev = object$xlevels)", 
                        "6. model.frame.default(Terms, newdata, na.action = na.action, xlev = object$xlevels)", 
                        "7. eval(predvars, data, env)", 
                        "8. eval(expr, envir, enclos)"
                    ], 
                    "ename": "ERROR", 
                    "output_type": "error"
                }
            ], 
            "source": "prediction <- predict(lrfit, newdata = newLoans1, type = \"response\")\n\n\n", 
            "metadata": {
                "collapsed": false
            }
        }
    ], 
    "nbformat": 4, 
    "nbformat_minor": 0, 
    "metadata": {
        "kernelspec": {
            "language": "R", 
            "display_name": "R with Spark 1.6", 
            "name": "r"
        }, 
        "language_info": {
            "file_extension": ".r", 
            "pygments_lexer": "r", 
            "codemirror_mode": "r", 
            "version": "3.3.0", 
            "mimetype": "text/x-r-source", 
            "name": "R"
        }
    }
}